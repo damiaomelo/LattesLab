{
 "cells": [
  {
   "cell_type": "markdown",
   "metadata": {},
   "source": [
    "# Jupyter Notebook de Início das Análises de Curriculo Lattes"
   ]
  },
  {
   "cell_type": "markdown",
   "metadata": {},
   "source": [
    "Este Notebook Jupyter tem por função servir de menu para as diferentes análises de Curriculos Lattes que podem ser feitas através da ferramenta LattesLab. Para acessar um exemplo de aplicação, é só clicar num dos links abaixo:"
   ]
  },
  {
   "cell_type": "markdown",
   "metadata": {},
   "source": [
    "[Análise geral de grupos de currículos Lattes](metadata_PT.ipynb)\n",
    "\n",
    "[Graduações por ano](degrees_per_year_PT.ipynb)\n",
    "\n",
    "[Grafos de redes sociais](graph_PT.ipynb)\n",
    "\n",
    "[Publicações de grupo de pesquisadores](history_group_PT.ipynb)\n",
    "\n",
    "[Publicações de um pesquisador](history_researcher_PT.ipynb)\n",
    "\n",
    "[Análise quantitativa de currículos Lattes](olap_PT.ipynb)\n",
    "\n",
    "[Nuvem de palavras de publicações](pubs_to_wordclouds_PT.ipynb)\n",
    "\n",
    "[Nuvem de palavras de descrições de currículos Lattes](summary_wordclouds_PT.ipynb)"
   ]
  },
  {
   "cell_type": "markdown",
   "metadata": {},
   "source": [
    "Cada aplicação possui, no final da página, um link para voltar para este menu."
   ]
  }
 ],
 "metadata": {
  "kernelspec": {
   "display_name": "Python 3",
   "language": "python",
   "name": "python3"
  },
  "language_info": {
   "codemirror_mode": {
    "name": "ipython",
    "version": 3
   },
   "file_extension": ".py",
   "mimetype": "text/x-python",
   "name": "python",
   "nbconvert_exporter": "python",
   "pygments_lexer": "ipython3",
   "version": "3.6.6"
  }
 },
 "nbformat": 4,
 "nbformat_minor": 2
}
