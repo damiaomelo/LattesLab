{
 "cells": [
  {
   "cell_type": "markdown",
   "metadata": {},
   "source": [
    "# Jupyter Notebook to Start Lattes CV Analysis"
   ]
  },
  {
   "cell_type": "markdown",
   "metadata": {},
   "source": [
    "This Jupyter Notebook works as a menu for different analysis of Lattes CVs that can be made using the LattesLab tool. To access an application, just click on one of the links below:"
   ]
  },
  {
   "cell_type": "markdown",
   "metadata": {},
   "source": [
    "[General analysis of Lattes CV groups](metadata_EN.ipynb)\n",
    "\n",
    "[Graduations per year](degrees_per_year_EN.ipynb)\n",
    "\n",
    "[Social graphs](graph_EN.ipynb)\n",
    "\n",
    "[Group of Researchers Publications](history_group_EN.ipynb)\n",
    "\n",
    "[Publications of a researcher](history_researcher_EN.ipynb)\n",
    "\n",
    "[Quantitative analysis of Lattes curricula](olap_EN.ipynb)\n",
    "\n",
    "[Publications word cloud](pubs_to_wordclouds_EN.ipynb)\n",
    "\n",
    "[Lattes CV summary word cloud](summary_wordclouds_EN.ipynb)"
   ]
  },
  {
   "cell_type": "markdown",
   "metadata": {},
   "source": [
    "Each application has, at the bottom of the page, a link to return to this menu."
   ]
  }
 ],
 "metadata": {
  "kernelspec": {
   "display_name": "Python 3",
   "language": "python",
   "name": "python3"
  },
  "language_info": {
   "codemirror_mode": {
    "name": "ipython",
    "version": 3
   },
   "file_extension": ".py",
   "mimetype": "text/x-python",
   "name": "python",
   "nbconvert_exporter": "python",
   "pygments_lexer": "ipython3",
   "version": "3.6.5"
  }
 },
 "nbformat": 4,
 "nbformat_minor": 2
}
